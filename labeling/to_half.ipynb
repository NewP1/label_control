{
 "cells": [
  {
   "cell_type": "code",
   "execution_count": 1,
   "metadata": {},
   "outputs": [],
   "source": [
    "from glob import glob\n",
    "import cv2\n",
    "import os\n",
    "from tqdm import tqdm\n",
    "import numpy as np"
   ]
  },
  {
   "cell_type": "code",
   "execution_count": 2,
   "metadata": {},
   "outputs": [],
   "source": [
    "def createDirectory(directory):\n",
    "    try:\n",
    "        if not os.path.exists(directory):\n",
    "            os.makedirs(directory)\n",
    "    except OSError:\n",
    "        print(\"Error: Failed to create the directory.\")"
   ]
  },
  {
   "attachments": {},
   "cell_type": "markdown",
   "metadata": {},
   "source": [
    "## resize_rate 변경 시 원하는 비율로 image resize 가능"
   ]
  },
  {
   "cell_type": "code",
   "execution_count": 6,
   "metadata": {},
   "outputs": [],
   "source": [
    "path = r'C:\\Users\\user\\Desktop\\AIHUB_Val\\person_crop\\night\\lighter_25\\test'\n",
    "des = r'C:\\Users\\user\\Desktop\\AIHUB_Val\\person_crop\\night\\lighter_25\\test\\contrast'\n",
    "\n",
    "resize_rate = .0625\n",
    "ligther = 30"
   ]
  },
  {
   "cell_type": "code",
   "execution_count": 7,
   "metadata": {},
   "outputs": [],
   "source": [
    "\n",
    "# createDirectory(des)\n",
    "# file_list = glob(os.path.join(path,'*.jpg'))\n",
    "# for img in tqdm(file_list):\n",
    "    \n",
    "#     src = cv2.imread(img)\n",
    "#     if src is None:\n",
    "#         print(\"img None\")\n",
    "#         sys.exit()\n",
    "\n",
    "#     change_src = cv2.resize(src, None, fx=resize_rate, fy=resize_rate, interpolation=cv2.INTER_AREA)\n",
    "#     tmp = img[len(path)+1:]\n",
    "    # cv2.imwrite(os.path.join(des, tmp), change_src)\n",
    "    "
   ]
  },
  {
   "cell_type": "markdown",
   "metadata": {},
   "source": [
    "# 야간 crop 밝기 조절"
   ]
  },
  {
   "cell_type": "code",
   "execution_count": 8,
   "metadata": {},
   "outputs": [
    {
     "name": "stderr",
     "output_type": "stream",
     "text": [
      "100%|██████████| 1/1 [00:00<00:00, 250.02it/s]\n"
     ]
    }
   ],
   "source": [
    "createDirectory(des)\n",
    "file_list = glob(os.path.join(path,'*.jpg'))\n",
    "\n",
    "for img in tqdm(file_list):\n",
    "    src = cv2.imread(img)\n",
    "    \n",
    "    alpha1 = 1.0 # 명암 조정값\n",
    "    # alpha2 = 1.0 # 명암 조정값\n",
    "\n",
    "    dst1 = np.clip((1+alpha1) * src - 128 * alpha1, 0, 255).astype(np.uint8) # 명암\n",
    "\n",
    "    # dst = cv2.add(src, (ligther, ligther, ligther, 0))\n",
    "    \n",
    "    \n",
    "    tmp = img[len(path)+1:]\n",
    "    cv2.imwrite(os.path.join(des, tmp), dst1)\n"
   ]
  },
  {
   "cell_type": "code",
   "execution_count": null,
   "metadata": {},
   "outputs": [],
   "source": []
  }
 ],
 "metadata": {
  "kernelspec": {
   "display_name": "yolov7_seg",
   "language": "python",
   "name": "python3"
  },
  "language_info": {
   "codemirror_mode": {
    "name": "ipython",
    "version": 3
   },
   "file_extension": ".py",
   "mimetype": "text/x-python",
   "name": "python",
   "nbconvert_exporter": "python",
   "pygments_lexer": "ipython3",
   "version": "3.7.16"
  },
  "orig_nbformat": 4
 },
 "nbformat": 4,
 "nbformat_minor": 2
}
