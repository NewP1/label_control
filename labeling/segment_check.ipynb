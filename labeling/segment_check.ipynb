{
 "cells": [
  {
   "cell_type": "code",
   "execution_count": 1,
   "metadata": {},
   "outputs": [],
   "source": [
    "from glob import glob\n",
    "import cv2\n",
    "import os\n",
    "from tqdm import tqdm\n",
    "from collections import Counter\n",
    "from shutil import copyfile, move\n",
    "import matplotlib.pyplot as plt\n",
    "import seaborn"
   ]
  },
  {
   "cell_type": "code",
   "execution_count": 2,
   "metadata": {},
   "outputs": [],
   "source": [
    "def createDirectory(directory):\n",
    "    try:\n",
    "        if not os.path.exists(directory):\n",
    "            os.makedirs(directory)\n",
    "    except OSError:\n",
    "        print(\"Error: Failed to create the directory.\")"
   ]
  },
  {
   "cell_type": "code",
   "execution_count": 3,
   "metadata": {},
   "outputs": [],
   "source": [
    "classes = {  0: '셔츠/블라우스',  1: '상의/티셔츠/맨투맨',  2: '스웨터',  3: '카디건',  4: '자켓',  5: '조끼',  6: '바지',  7: '반바지',  8: '치마',  9: '코트',  10: '드레스/원피스',\n",
    "  11: '점프수트',  12: '망토',  13: '안경/선글라스',  14: '모자',  15: '머리띠',  16: '넥타이',  17: '장갑',  18: '시계',  19: '벨트/허리띠',  20: '다리보온대/레그워머',\n",
    "  21: '타이즈/스타킹',  22: '양말',  23: '신발',  24: '가방/지갑',  25: '스카프',  26: '우산',  27: '후드/복면',  28: '카라/깃',  29: 'laped',  30: '어깨장식(견장)',\n",
    "  31: '소매',  32: '주머니/호주머니',  33: '목둘레선',  34: '버클',  35: '지퍼',  36: '아플리케',  37: '구슬/염주',  38: '보타이',  39: '꽃',  40: '술',\n",
    "  41: '리본',  42: 'rivet',  43: '주름장식',  44: '스팽글',  45: '술'}"
   ]
  },
  {
   "cell_type": "code",
   "execution_count": 4,
   "metadata": {},
   "outputs": [],
   "source": [
    "path = r'C:\\Users\\user\\AIHub_seg\\runs\\segment\\predict_night_light_30_seg'\n",
    "jpg_list = glob(os.path.join(path,'*.jpg'))\n",
    "\n",
    "txt_path = os.path.join(path, 'labels')\n",
    "txt_list = os.listdir(txt_path)\n",
    "\n",
    "seg_path = os.path.join(path, 'seg')\n",
    "createDirectory(seg_path)\n",
    "\n",
    "not_seg_path = os.path.join(path, 'not_seg')\n",
    "createDirectory(not_seg_path)\n",
    "\n",
    "video_path = r'C:\\Users\\user\\AIHub_seg\\runs\\detect\\predict_night'\n",
    "video_names = glob(os.path.join(video_path, '*.avi'))\n"
   ]
  },
  {
   "cell_type": "code",
   "execution_count": 5,
   "metadata": {},
   "outputs": [
    {
     "name": "stderr",
     "output_type": "stream",
     "text": [
      "100%|██████████| 24582/24582 [01:00<00:00, 404.78it/s]"
     ]
    },
    {
     "name": "stdout",
     "output_type": "stream",
     "text": [
      "총 개수 :  24582\n",
      "segment :  5465\n",
      "not segment :  19117\n"
     ]
    },
    {
     "name": "stderr",
     "output_type": "stream",
     "text": [
      "\n"
     ]
    }
   ],
   "source": [
    "for jpg in tqdm(jpg_list):\n",
    "    src = jpg[len(path)+1:]\n",
    "    txt_name = src[:-4] + '.txt'\n",
    "    # if txt_name in txt_list:\n",
    "    #     copyfile(jpg, os.path.join(seg_path, src))\n",
    "    # else:\n",
    "    #     copyfile(jpg,os.path.join(not_seg_path,src))\n",
    "\n",
    "print(\"총 개수 : \", len(jpg_list))\n",
    "print(\"segment : \", len(os.listdir(seg_path)))\n",
    "print(\"not segment : \", len(os.listdir(not_seg_path)))"
   ]
  },
  {
   "cell_type": "markdown",
   "metadata": {},
   "source": [
    "## 영상마다 폴더 분류 ( 주석처리 할 것 )"
   ]
  },
  {
   "cell_type": "code",
   "execution_count": 6,
   "metadata": {},
   "outputs": [
    {
     "name": "stdout",
     "output_type": "stream",
     "text": [
      "2021-09-05_20-18-00_sun_sunny_out_sa-bt_C0091\n",
      "2021-09-05_21-45-00_sun_sunny_out_sa-bt_C0091\n",
      "2021-09-06_21-39-00_mon_sunny_out_sa-bt_C0091\n",
      "2021-09-06_21-45-00_mon_sunny_out_sa-bt_C0091\n",
      "2021-09-06_21-54-00_mon_sunny_out_sa-bt_C0091\n",
      "2021-09-06_23-03-00_mon_sunny_out_sa-bt_C0091\n",
      "2021-09-07_21-21-00_tue_sunny_out_sa-bt_C0091\n",
      "2021-09-07_22-00-00_tue_sunny_out_sa-bt_C0091\n",
      "2021-09-07_23-24-00_tue_sunny_out_sa-bt_C0091\n",
      "2021-09-08_20-36-00_wed_sunny_out_sa-bt_C0091\n",
      "2021-09-08_21-24-00_wed_sunny_out_sa-bt_C0091\n",
      "2021-09-09_20-00-00_thu_sunny_out_sa-bt_C0091\n",
      "2021-09-09_20-21-00_thu_sunny_out_sa-bt_C0091\n",
      "2021-09-09_20-27-00_thu_sunny_out_sa-bt_C0091\n",
      "2021-09-09_21-36-00_thu_sunny_out_sa-bt_C0091\n",
      "2021-09-09_21-45-00_thu_sunny_out_sa-bt_C0091\n",
      "2021-09-09_22-03-00_thu_sunny_out_sa-bt_C0091\n",
      "2021-09-09_22-27-00_thu_sunny_out_sa-bt_C0006\n",
      "2021-09-09_22-27-00_thu_sunny_out_sa-bt_C0091\n",
      "2021-09-09_23-18-00_thu_sunny_out_sa-bt_C0006\n",
      "2021-09-09_23-33-00_thu_sunny_out_sa-bt_C0006\n",
      "2021-09-09_23-33-00_thu_sunny_out_sa-bt_C0091\n",
      "2021-09-09_23-36-00_thu_sunny_out_sa-bt_C0305-12_go2\n",
      "2021-09-09_23-42-00_thu_sunny_out_sa-bt_C0091\n",
      "2021-09-09_23-48-00_thu_sunny_out_sa-bt_C0091\n",
      "2021-09-09_23-48-00_thu_sunny_out_sa-bt_C0305-12_go2\n",
      "2021-09-09_23-54-00_thu_sunny_out_sa-bt_C0305-12_go2\n"
     ]
    }
   ],
   "source": [
    "# for avi in video_names:\n",
    "#     tmp = avi[len(video_path)+1:-4]\n",
    "#     print(tmp)\n",
    "#     des_path = os.path.join(path, tmp)\n",
    "#     createDirectory(des_path)\n",
    "#     for jpg in jpg_list:\n",
    "#         if tmp in jpg:\n",
    "#             copyfile(jpg, os.path.join(des_path, jpg[len(path)+1:]))\n",
    "    "
   ]
  },
  {
   "cell_type": "markdown",
   "metadata": {},
   "source": [
    "# histogram"
   ]
  },
  {
   "cell_type": "code",
   "execution_count": 7,
   "metadata": {},
   "outputs": [],
   "source": [
    "def h_w_make(img_list):\n",
    "    h_list = []\n",
    "    w_list = []\n",
    "    for img in img_list:\n",
    "        src = cv2.imread(img)\n",
    "        h, w = src.shape[:2]\n",
    "        h_list.append(h)\n",
    "        w_list.append(w)\n",
    "    return h_list, w_list"
   ]
  },
  {
   "cell_type": "code",
   "execution_count": 8,
   "metadata": {},
   "outputs": [],
   "source": [
    "seg_list = glob(os.path.join(seg_path, '*.jpg'))\n",
    "not_seg_list = glob(os.path.join(not_seg_path, '*.jpg'))\n",
    "\n",
    "seg_h_list, seg_w_list = h_w_make(seg_list)\n",
    "not_seg_h_list, not_seg_w_list = h_w_make(not_seg_list)\n"
   ]
  },
  {
   "cell_type": "code",
   "execution_count": 9,
   "metadata": {},
   "outputs": [
    {
     "name": "stdout",
     "output_type": "stream",
     "text": [
      "\n",
      "Segment\n",
      "h_min :  95\n",
      "h_max :  398\n",
      "h_mean :  242.11\n",
      "w_min :  41\n",
      "w_max :  242\n",
      "w_mean :  107.79\n",
      "\n",
      "Not Segment\n",
      "h_min :  33\n",
      "h_max :  409\n",
      "h_mean :  126.45\n",
      "w_min :  21\n",
      "w_max :  220\n",
      "w_mean :  59.68\n"
     ]
    }
   ],
   "source": [
    "seg_h_min = min(seg_h_list)\n",
    "seg_h_max = max(seg_h_list)\n",
    "seg_h_mean = sum(seg_h_list) / len(seg_h_list)\n",
    "seg_w_min = min(seg_w_list)\n",
    "seg_w_max = max(seg_w_list)\n",
    "seg_w_mean = sum(seg_w_list) / len(seg_w_list)\n",
    "\n",
    "print('\\nSegment')\n",
    "print('h_min : ', seg_h_min)\n",
    "print('h_max : ', seg_h_max)\n",
    "print('h_mean : ', round(seg_h_mean,2))\n",
    "print('w_min : ', seg_w_min)\n",
    "print('w_max : ', seg_w_max)\n",
    "print('w_mean : ', round(seg_w_mean,2))\n",
    "\n",
    "not_seg_h_min = min(not_seg_h_list)\n",
    "not_seg_h_max = max(not_seg_h_list)\n",
    "not_seg_h_mean = sum(not_seg_h_list) / len(not_seg_h_list)\n",
    "not_seg_w_min = min(not_seg_w_list)\n",
    "not_seg_w_max = max(not_seg_w_list)\n",
    "not_seg_w_mean = sum(not_seg_w_list) / len(not_seg_w_list)\n",
    "\n",
    "print(\"\\nNot Segment\")\n",
    "print('h_min : ', not_seg_h_min)\n",
    "print('h_max : ', not_seg_h_max)\n",
    "print('h_mean : ', round(not_seg_h_mean,2))\n",
    "print('w_min : ', not_seg_w_min)\n",
    "print('w_max : ', not_seg_w_max)\n",
    "print('w_mean : ', round(not_seg_w_mean,2))"
   ]
  },
  {
   "cell_type": "code",
   "execution_count": 10,
   "metadata": {},
   "outputs": [
    {
     "data": {
      "image/png": "[encoded data removed]",
      "text/plain": [
       "<Figure size 640x480 with 1 Axes>"
      ]
     },
     "metadata": {},
     "output_type": "display_data"
    },
    {
     "data": {
      "image/png": "[encoded data removed]",
      "text/plain": [
       "<Figure size 640x480 with 1 Axes>"
      ]
     },
     "metadata": {},
     "output_type": "display_data"
    }
   ],
   "source": [
    "plt.subplot(2,1,1)\n",
    "plt.hist(seg_h_list, bins=20, edgecolor='black')\n",
    "plt.title('Height')\n",
    "plt.xlabel('Size')\n",
    "plt.ylabel('Count')\n",
    "plt.axis([0, 500, 0, 5000])   # plt.axis([0, 1000, 0, 10000])\n",
    "plt.show()\n",
    "\n",
    "plt.subplot(2,1,2)\n",
    "plt.hist(seg_w_list, bins=20, edgecolor='black')\n",
    "plt.title('Width')\n",
    "plt.xlabel('Size')\n",
    "plt.ylabel('Count')\n",
    "plt.axis([0, 300, 0, 5000])    # plt.axis([0, 1000, 0, 10000])\n",
    "plt.show()"
   ]
  },
  {
   "cell_type": "code",
   "execution_count": 11,
   "metadata": {},
   "outputs": [
    {
     "data": {
      "image/png": "[encoded data removed]",
      "text/plain": [
       "<Figure size 640x480 with 1 Axes>"
      ]
     },
     "metadata": {},
     "output_type": "display_data"
    },
    {
     "data": {
      "image/png": "[encoded data removed]",
      "text/plain": [
       "<Figure size 640x480 with 1 Axes>"
      ]
     },
     "metadata": {},
     "output_type": "display_data"
    }
   ],
   "source": [
    "plt.subplot(2,1,1)\n",
    "plt.hist(not_seg_h_list, bins=20, edgecolor='black')\n",
    "plt.title('Height')\n",
    "plt.xlabel('Size')\n",
    "plt.ylabel('Count')\n",
    "plt.axis([0, 500, 0, 10000])   # plt.axis([0, 1000, 0, 30000])\n",
    "plt.show()\n",
    "\n",
    "plt.subplot(2,1,2)\n",
    "plt.hist(not_seg_w_list, bins=20, edgecolor='black')\n",
    "plt.title('Width')\n",
    "plt.xlabel('Size')\n",
    "plt.ylabel('Count')\n",
    "plt.axis([0, 300, 0, 10000])   # plt.axis([0, 1000, 0, 30000])\n",
    "plt.show()"
   ]
  }
 ],
 "metadata": {
  "kernelspec": {
   "display_name": "yolov8",
   "language": "python",
   "name": "python3"
  },
  "language_info": {
   "codemirror_mode": {
    "name": "ipython",
    "version": 3
   },
   "file_extension": ".py",
   "mimetype": "text/x-python",
   "name": "python",
   "nbconvert_exporter": "python",
   "pygments_lexer": "ipython3",
   "version": "3.7.16"
  },
  "orig_nbformat": 4
 },
 "nbformat": 4,
 "nbformat_minor": 2
}
