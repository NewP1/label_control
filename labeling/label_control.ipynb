{
 "cells": [
  {
   "cell_type": "code",
   "execution_count": 1,
   "metadata": {},
   "outputs": [],
   "source": [
    "from glob import glob\n",
    "import cv2\n",
    "import os\n",
    "from tqdm import tqdm\n",
    "from collections import Counter\n",
    "from shutil import copyfile"
   ]
  },
  {
   "cell_type": "code",
   "execution_count": 2,
   "metadata": {},
   "outputs": [],
   "source": [
    "def createDirectory(directory):\n",
    "    try:\n",
    "        if not os.path.exists(directory):\n",
    "            os.makedirs(directory)\n",
    "    except OSError:\n",
    "        print(\"Error: Failed to create the directory.\")"
   ]
  },
  {
   "cell_type": "code",
   "execution_count": 3,
   "metadata": {},
   "outputs": [],
   "source": [
    "classes = {  0: '셔츠/블라우스',  1: '상의/티셔츠/맨투맨',  2: '스웨터',  3: '카디건',  4: '자켓',  5: '조끼',  6: '바지',  7: '반바지',  8: '치마',  9: '코트',  10: '드레스/원피스',\n",
    "  11: '점프수트',  12: '망토',  13: '안경/선글라스',  14: '모자',  15: '머리띠',  16: '넥타이',  17: '장갑',  18: '시계',  19: '벨트/허리띠',  20: '다리보온대/레그워머',\n",
    "  21: '타이즈/스타킹',  22: '양말',  23: '신발',  24: '가방/지갑',  25: '스카프',  26: '우산',  27: '후드/복면',  28: '카라/깃',  29: 'laped',  30: '어깨장식(견장)',\n",
    "  31: '소매',  32: '주머니/호주머니',  33: '목둘레선',  34: '버클',  35: '지퍼',  36: '아플리케',  37: '구슬/염주',  38: '보타이',  39: '꽃',  40: '술',\n",
    "  41: '리본',  42: 'rivet',  43: '주름장식',  44: '스팽글',  45: '술'}\n",
    "\n",
    "des_classes = [0,1,4,5,6,7,8,9,10,13,14,15,23,24,25]  "
   ]
  },
  {
   "cell_type": "code",
   "execution_count": 4,
   "metadata": {},
   "outputs": [],
   "source": [
    "original_path = r'C:\\Users\\user\\labeling\\datasets\\train_1'\n",
    "o_label_list = glob(os.path.join(original_path,'*.txt'))\n",
    "\n",
    "des_path = os.path.join(original_path, 'change')\n",
    "createDirectory(des_path)\n"
   ]
  },
  {
   "cell_type": "markdown",
   "metadata": {},
   "source": [
    "# 필요없는 label 삭제"
   ]
  },
  {
   "cell_type": "code",
   "execution_count": 5,
   "metadata": {},
   "outputs": [
    {
     "name": "stderr",
     "output_type": "stream",
     "text": [
      "100%|██████████| 22811/22811 [00:05<00:00, 3831.37it/s]\n"
     ]
    }
   ],
   "source": [
    "for file in tqdm(o_label_list):\n",
    "    tmp = file[len(original_path)+1:]   # 파일이름\n",
    "    with open(file,'r') as f:           # 해당 파일 txt 읽어오기\n",
    "        lines = f.readlines()\n",
    "    \n",
    "    des_file = os.path.join(des_path, tmp)\n",
    "    with open(des_file, 'w') as f:\n",
    "        for line in lines:\n",
    "            line_list = line.split()\n",
    "            index = int(line_list[0])\n",
    "            if index in des_classes:\n",
    "                f.write(line)\n",
    "            else:\n",
    "                if index == 2:\n",
    "                    line_list[0] = '1'\n",
    "                    f.write(' '.join(line_list)+'\\n')\n",
    "                elif index == 3:\n",
    "                    line_list[0] = '4'\n",
    "                    f.write(' '.join(line_list)+'\\n')\n",
    "    "
   ]
  },
  {
   "cell_type": "markdown",
   "metadata": {},
   "source": [
    "## 개수 파악"
   ]
  },
  {
   "cell_type": "code",
   "execution_count": 6,
   "metadata": {},
   "outputs": [
    {
     "name": "stderr",
     "output_type": "stream",
     "text": [
      "100%|██████████| 22811/22811 [01:09<00:00, 329.24it/s]"
     ]
    },
    {
     "name": "stdout",
     "output_type": "stream",
     "text": [
      "총 labeling 개수 :  71208\n",
      "0\n",
      "[3098, 9036, 4545, 350, 6113, 1382, 2565, 1532, 9371, 2467, 1281, 1750, 23268, 3739, 711, 0, 0]\n"
     ]
    },
    {
     "name": "stderr",
     "output_type": "stream",
     "text": [
      "\n"
     ]
    }
   ],
   "source": [
    "change_dict = {0 : 0, 1 : 1, 4 : 2, 5 : 3, 6 : 4, 7 : 5, 8 : 6,\n",
    "               9 : 7, 10 : 8, 13 : 9, 14 : 10, 15 : 11, 23 : 12, 24 : 13, 25 : 14}\n",
    "\n",
    "tot_count = 0\n",
    "count = [0] * 17\n",
    "none_txt = 0\n",
    "result_list = glob(os.path.join(des_path,'*.txt'))\n",
    "\n",
    "for file in tqdm(result_list):\n",
    "    with open(file, 'r') as f:\n",
    "        lines = f.readlines()\n",
    "    for line in lines:\n",
    "        index = int(line.split()[0])\n",
    "        tot_count += 1\n",
    "        count[change_dict[index]] += 1\n",
    "print('총 labeling 개수 : ', tot_count)\n",
    "print(none_txt)\n",
    "print(count)\n",
    "        "
   ]
  },
  {
   "cell_type": "markdown",
   "metadata": {},
   "source": [
    "## 숫자수정"
   ]
  },
  {
   "cell_type": "code",
   "execution_count": 7,
   "metadata": {},
   "outputs": [
    {
     "name": "stderr",
     "output_type": "stream",
     "text": [
      "100%|██████████| 22811/22811 [00:05<00:00, 4069.81it/s]\n"
     ]
    }
   ],
   "source": [
    "change_dict = {0 : 0, 1 : 1, 4 : 2, 5 : 3, 6 : 4, 7 : 5, 8 : 6,\n",
    "               9 : 7, 10 : 8, 13 : 9, 14 : 10, 15 : 11, 23 : 12, 24 : 13, 25 : 14}\n",
    "\n",
    "change_path = des_path\n",
    "des_change_path = os.path.join(change_path, 'result')\n",
    "createDirectory(des_change_path)\n",
    "change_list = glob(os.path.join(change_path,'*.txt'))\n",
    "\n",
    "for file in tqdm(change_list):\n",
    "    tmp = file[len(change_path)+1:]\n",
    "    with open(file,'r') as f:           # 해당 파일 txt 읽어오기\n",
    "        lines = f.readlines()\n",
    "        \n",
    "    with open(os.path.join(des_change_path, tmp), 'w') as f:\n",
    "        for line in lines:\n",
    "            line_list = line.split()\n",
    "            index = int(line_list[0])\n",
    "            line_list[0] = str(change_dict[index])\n",
    "            f.write(' '.join(line_list)+'\\n')\n",
    "            \n",
    "    "
   ]
  },
  {
   "cell_type": "code",
   "execution_count": 8,
   "metadata": {},
   "outputs": [
    {
     "name": "stderr",
     "output_type": "stream",
     "text": [
      "100%|██████████| 22811/22811 [01:10<00:00, 323.57it/s]"
     ]
    },
    {
     "name": "stdout",
     "output_type": "stream",
     "text": [
      "총 labeling 개수 :  71208\n",
      "[3098, 9036, 4545, 350, 6113, 1382, 2565, 1532, 9371, 2467, 1281, 1750, 23268, 3739, 711, 0, 0]\n"
     ]
    },
    {
     "name": "stderr",
     "output_type": "stream",
     "text": [
      "\n"
     ]
    }
   ],
   "source": [
    "tot_count = 0\n",
    "count = [0] * 17\n",
    "\n",
    "change_result_list = glob(os.path.join(des_change_path,'*.txt'))\n",
    "\n",
    "for file in tqdm(change_result_list):\n",
    "    with open(file, 'r') as f:\n",
    "        lines = f.readlines()\n",
    "    for line in lines:\n",
    "        tot_count += 1\n",
    "        index = int(line.split()[0])\n",
    "        count[index] += 1\n",
    "print('총 labeling 개수 : ', tot_count)\n",
    "\n",
    "print(count)"
   ]
  },
  {
   "cell_type": "markdown",
   "metadata": {},
   "source": [
    "# 개수만 확인"
   ]
  },
  {
   "cell_type": "code",
   "execution_count": 1,
   "metadata": {},
   "outputs": [],
   "source": [
    "from glob import glob\n",
    "import os\n",
    "from tqdm import tqdm"
   ]
  },
  {
   "cell_type": "code",
   "execution_count": 3,
   "metadata": {},
   "outputs": [
    {
     "name": "stdout",
     "output_type": "stream",
     "text": [
      "총 labeling 개수 :  4152\n",
      "[92, 352, 122, 22, 314, 106, 162, 74, 508, 130, 74, 109, 1566, 214, 48, 259, 0, 0, 0, 0]\n",
      "셔츠 :  92\n",
      "맨투맨 :  352\n",
      "자켓 :  122\n",
      "코트 :  74\n",
      "검은색 상의 :  259\n",
      "검은색 외투 :  0\n"
     ]
    }
   ],
   "source": [
    "txt_path = r'C:\\Users\\user\\Desktop\\labels\\val'\n",
    "test_list = glob(os.path.join(txt_path,'*.txt'))\n",
    "tot_count = 0\n",
    "count = [0] * 20\n",
    "\n",
    "for file in test_list:\n",
    "    with open(file, 'r') as f:\n",
    "        lines = f.readlines()\n",
    "    for line in lines:\n",
    "        tot_count += 1\n",
    "        index = int(line.split()[0])\n",
    "        count[index] += 1\n",
    "print('총 labeling 개수 : ', tot_count)\n",
    "\n",
    "print(count)\n",
    "print('셔츠 : ', count[0])\n",
    "print('맨투맨 : ', count[1])\n",
    "print('자켓 : ', count[2])\n",
    "print('코트 : ', count[7])\n",
    "print('검은색 상의 : ', count[15])\n",
    "print('검은색 외투 : ', count[16])"
   ]
  },
  {
   "cell_type": "markdown",
   "metadata": {},
   "source": [
    "# label 수정 ( black 합치기 )\n"
   ]
  },
  {
   "cell_type": "code",
   "execution_count": null,
   "metadata": {},
   "outputs": [],
   "source": [
    "path = r'C:\\Users\\user\\Desktop\\labels\\test'\n",
    "\n",
    "for file in tqdm(o_label_list):\n",
    "    tmp = file[len(original_path)+1:]   # 파일이름\n",
    "    with open(file,'r') as f:           # 해당 파일 txt 읽어오기\n",
    "        lines = f.readlines()\n",
    "    \n",
    "    des_file = os.path.join(des_path, tmp)\n",
    "    with open(des_file, 'w') as f:\n",
    "        for line in lines:\n",
    "            line_list = line.split()\n",
    "            index = int(line_list[0])\n",
    "            if index in des_classes:\n",
    "                f.write(line)\n",
    "            else:\n",
    "                if index == 2:\n",
    "                    line_list[0] = '1'\n",
    "                    f.write(' '.join(line_list)+'\\n')\n",
    "                elif index == 3:\n",
    "                    line_list[0] = '4'\n",
    "                    f.write(' '.join(line_list)+'\\n')\n",
    "    "
   ]
  }
 ],
 "metadata": {
  "kernelspec": {
   "display_name": "yolov8",
   "language": "python",
   "name": "python3"
  },
  "language_info": {
   "codemirror_mode": {
    "name": "ipython",
    "version": 3
   },
   "file_extension": ".py",
   "mimetype": "text/x-python",
   "name": "python",
   "nbconvert_exporter": "python",
   "pygments_lexer": "ipython3",
   "version": "3.7.16"
  },
  "orig_nbformat": 4
 },
 "nbformat": 4,
 "nbformat_minor": 2
}
