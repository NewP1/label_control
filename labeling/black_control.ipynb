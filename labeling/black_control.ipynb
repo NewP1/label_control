{
 "cells": [
  {
   "cell_type": "code",
   "execution_count": 1,
   "metadata": {},
   "outputs": [],
   "source": [
    "from glob import glob\n",
    "import cv2\n",
    "import os\n",
    "from tqdm import tqdm\n",
    "from collections import Counter\n",
    "from shutil import copyfile\n",
    "import shutil"
   ]
  },
  {
   "cell_type": "code",
   "execution_count": 2,
   "metadata": {},
   "outputs": [],
   "source": [
    "def createDirectory(directory):\n",
    "    try:\n",
    "        if not os.path.exists(directory):\n",
    "            os.makedirs(directory)\n",
    "    except OSError:\n",
    "        print(\"Error: Failed to create the directory.\")"
   ]
  },
  {
   "cell_type": "code",
   "execution_count": 3,
   "metadata": {},
   "outputs": [],
   "source": [
    "classes = {  0: '셔츠/블라우스',  1: '상의/티셔츠/맨투맨',  2: '스웨터',  3: '카디건',  4: '자켓',  5: '조끼',  6: '바지',  7: '반바지',  8: '치마',  9: '코트',  10: '드레스/원피스',\n",
    "  11: '점프수트',  12: '망토',  13: '안경/선글라스',  14: '모자',  15: '머리띠',  16: '넥타이',  17: '장갑',  18: '시계',  19: '벨트/허리띠',  20: '다리보온대/레그워머',\n",
    "  21: '타이즈/스타킹',  22: '양말',  23: '신발',  24: '가방/지갑',  25: '스카프',  26: '우산',  27: '후드/복면',  28: '카라/깃',  29: 'laped',  30: '어깨장식(견장)',\n",
    "  31: '소매',  32: '주머니/호주머니',  33: '목둘레선',  34: '버클',  35: '지퍼',  36: '아플리케',  37: '구슬/염주',  38: '보타이',  39: '꽃',  40: '술',\n",
    "  41: '리본',  42: 'rivet',  43: '주름장식',  44: '스팽글',  45: '술'}\n",
    "\n",
    "des_classes = [0,1,4,5,6,7,8,9,10,13,14,15,23,24,25]  "
   ]
  },
  {
   "cell_type": "code",
   "execution_count": 5,
   "metadata": {},
   "outputs": [],
   "source": [
    "main_path = r'C:\\Users\\user\\labeling\\datasets\\train_1\\change\\result'\n",
    "main_list = glob(os.path.join(main_path,'*.txt'))\n",
    "\n",
    "des_main_path = r'C:\\Users\\user\\labeling\\runs'\n",
    "path = os.path.join(des_main_path, 'train_1')\n",
    "\n",
    "createDirectory(path)"
   ]
  },
  {
   "cell_type": "code",
   "execution_count": 6,
   "metadata": {},
   "outputs": [
    {
     "name": "stderr",
     "output_type": "stream",
     "text": [
      "100%|██████████| 22811/22811 [00:07<00:00, 2959.64it/s]\n"
     ]
    }
   ],
   "source": [
    "# for file in tqdm(main_list):\n",
    "#     tmp = file[len(main_path)+1:]   # 파일이름\n",
    "#     with open(file,'r') as f:           # 해당 파일 txt 읽어오기\n",
    "#         lines = f.readlines()\n",
    "    \n",
    "#     index_list = []\n",
    "#     folder_tmp = 'normal'\n",
    "#     for line in lines:\n",
    "#         index_list.append(int(line.split()[0]))\n",
    "#     if 2 in index_list:\n",
    "#         if 0 in index_list:\n",
    "#             folder_tmp = 'jacket\\shirt'\n",
    "#         elif 1 in index_list:\n",
    "#             folder_tmp = 'jacket\\sweatshirt'\n",
    "#         else:\n",
    "#             folder_tmp = 'jacket\\only_jacket'\n",
    "#     elif 7 in index_list:\n",
    "#         if 0 in index_list:\n",
    "#             folder_tmp = 'coat\\shirt'\n",
    "#         elif 1 in index_list:\n",
    "#             folder_tmp = 'coat\\sweatshirt'\n",
    "#         else:\n",
    "#             folder_tmp = 'coat\\only_coat'\n",
    "#     else:\n",
    "#         if 0 in index_list:\n",
    "#             folder_tmp = 'top\\shirt'\n",
    "#         elif 1 in index_list:\n",
    "#             folder_tmp = 'top\\sweatshirt'\n",
    "    \n",
    "#     des_path = os.path.join(path, folder_tmp)\n",
    "#     createDirectory(des_path)\n",
    "#     copyfile(file, os.path.join(des_path, tmp))\n",
    "        "
   ]
  },
  {
   "cell_type": "markdown",
   "metadata": {},
   "source": [
    "# label 개수 확인"
   ]
  },
  {
   "cell_type": "code",
   "execution_count": 7,
   "metadata": {},
   "outputs": [],
   "source": [
    "from glob import glob\n",
    "import os\n",
    "from tqdm import tqdm"
   ]
  },
  {
   "cell_type": "code",
   "execution_count": 20,
   "metadata": {},
   "outputs": [
    {
     "name": "stderr",
     "output_type": "stream",
     "text": [
      "100%|██████████| 1525/1525 [00:04<00:00, 322.06it/s]"
     ]
    },
    {
     "name": "stdout",
     "output_type": "stream",
     "text": [
      "총 labeling 개수 :  6360\n",
      "[127, 361, 0, 9, 606, 60, 164, 980, 308, 263, 172, 118, 1703, 492, 157, 276, 564, 0, 0, 0]\n",
      "셔츠 :  127\n",
      "맨투맨 :  361\n",
      "자켓 :  0\n",
      "코트 :  980\n",
      "검은색 상의 :  276\n",
      "검은색 외투 :  564\n"
     ]
    },
    {
     "name": "stderr",
     "output_type": "stream",
     "text": [
      "\n"
     ]
    }
   ],
   "source": [
    "txt_path = r'C:\\Users\\user\\Desktop\\train_2_black\\coat'\n",
    "test_list = glob(os.path.join(txt_path,'*.txt'))\n",
    "tot_count = 0\n",
    "count = [0] * 20\n",
    "\n",
    "for file in tqdm(test_list):\n",
    "    with open(file, 'r') as f:\n",
    "        lines = f.readlines()\n",
    "    for line in lines:\n",
    "        tot_count += 1\n",
    "        index = int(line.split()[0])\n",
    "        count[index] += 1\n",
    "print('총 labeling 개수 : ', tot_count)\n",
    "\n",
    "print(count)\n",
    "print('셔츠 : ', count[0])\n",
    "print('맨투맨 : ', count[1])\n",
    "print('자켓 : ', count[2])\n",
    "print('코트 : ', count[7])\n",
    "print('검은색 상의 : ', count[15])\n",
    "print('검은색 외투 : ', count[16])"
   ]
  },
  {
   "cell_type": "markdown",
   "metadata": {},
   "source": [
    "# 한파일에 label두개 이상 확인 ( 마지막 작업 )"
   ]
  },
  {
   "cell_type": "code",
   "execution_count": null,
   "metadata": {},
   "outputs": [],
   "source": [
    "from glob import glob\n",
    "import os\n",
    "from tqdm import tqdm\n",
    "from collections import Counter\n",
    "import shutil"
   ]
  },
  {
   "cell_type": "code",
   "execution_count": 21,
   "metadata": {},
   "outputs": [],
   "source": [
    "two_bool = True\n",
    "\n",
    "if two_bool:\n",
    "    jpg_path = r'C:\\Users\\user\\yolov8\\images\\train_resize\\train'\n",
    "    \n",
    "    check_path = r'C:\\Users\\user\\Desktop\\train_2_black\\coat'\n",
    "    check_list = glob(os.path.join(check_path, '*.txt'))\n",
    "    \n",
    "    check_des_path = os.path.join(check_path, 'two_labels')\n",
    "    # check_jpg_path = os.path.join(check_des_path, 'two_jpg')\n",
    "    createDirectory(check_des_path)\n",
    "    # createDirectory(check_jpg_path)\n",
    "    \n",
    "    for tmp in check_list:\n",
    "        src = tmp[len(check_path)+1:]\n",
    "        img = src[:-4] + '.jpg'\n",
    "        with open(tmp,'r') as f:           # 해당 파일 txt 읽어오기\n",
    "            lines = f.readlines()   \n",
    "        o_label_result = []\n",
    "        for line in lines:\n",
    "            o_label_result.append(int(line.split()[0]))\n",
    "        o_counter = Counter(o_label_result)\n",
    "        \n",
    "        # print(os.path.join(check_jpg_path, img))\n",
    "        if o_counter[15] > 1 or o_counter[16] > 1:\n",
    "            # print(src)\n",
    "            # copyfile(os.path.join(jpg_path,img), os.path.join(check_jpg_path, img))\n",
    "            shutil.move(tmp, os.path.join(check_des_path, src))\n",
    "        "
   ]
  },
  {
   "cell_type": "code",
   "execution_count": null,
   "metadata": {},
   "outputs": [],
   "source": []
  }
 ],
 "metadata": {
  "kernelspec": {
   "display_name": "yolov8",
   "language": "python",
   "name": "python3"
  },
  "language_info": {
   "codemirror_mode": {
    "name": "ipython",
    "version": 3
   },
   "file_extension": ".py",
   "mimetype": "text/x-python",
   "name": "python",
   "nbconvert_exporter": "python",
   "pygments_lexer": "ipython3",
   "version": "3.7.16"
  },
  "orig_nbformat": 4
 },
 "nbformat": 4,
 "nbformat_minor": 2
}
