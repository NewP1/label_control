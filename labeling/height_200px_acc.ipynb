{
 "cells": [
  {
   "cell_type": "code",
   "execution_count": 1,
   "metadata": {},
   "outputs": [],
   "source": [
    "from glob import glob\n",
    "import cv2\n",
    "import os\n",
    "from tqdm import tqdm\n",
    "import numpy as np\n",
    "from shutil import copyfile, move"
   ]
  },
  {
   "cell_type": "code",
   "execution_count": 2,
   "metadata": {},
   "outputs": [],
   "source": [
    "def createDirectory(directory):\n",
    "    try:\n",
    "        if not os.path.exists(directory):\n",
    "            os.makedirs(directory)\n",
    "    except OSError:\n",
    "        print(\"Error: Failed to create the directory.\")"
   ]
  },
  {
   "cell_type": "code",
   "execution_count": 3,
   "metadata": {},
   "outputs": [],
   "source": [
    "path = r'C:\\Users\\user\\AIHub_seg\\runs\\segment\\predict_jaywalking_seg'\n",
    "all_img = glob(os.path.join(path, '*.jpg'))\n",
    "\n",
    "txt_path = os.path.join(path, 'labels')\n",
    "txt_list = os.listdir(txt_path)\n",
    "\n",
    "main_path = os.path.join(path, 'h200')\n",
    "createDirectory(main_path)\n",
    "\n",
    "catch_path = os.path.join(main_path, 'catch')\n",
    "createDirectory(catch_path)\n",
    "\n",
    "miss_path = os.path.join(main_path, 'miss')\n",
    "createDirectory(miss_path)"
   ]
  },
  {
   "cell_type": "code",
   "execution_count": 5,
   "metadata": {},
   "outputs": [
    {
     "name": "stderr",
     "output_type": "stream",
     "text": [
      "100%|██████████| 22567/22567 [00:19<00:00, 1159.70it/s]"
     ]
    },
    {
     "name": "stdout",
     "output_type": "stream",
     "text": [
      "Height 200px 이상 총 개수 :  16452\n",
      "segmentation 된 개수 :  8022\n",
      "못 잡은 개수 :  8430\n",
      "잡은 퍼센트 :  48.76 %\n",
      "못 잡은 퍼센트 :  51.24 %\n"
     ]
    },
    {
     "name": "stderr",
     "output_type": "stream",
     "text": [
      "\n"
     ]
    }
   ],
   "source": [
    "tot_h200_cnt = 0\n",
    "seg_h200_cnt = 0\n",
    "\n",
    "for jpg in tqdm(all_img):\n",
    "    src = jpg[len(path)+1:]\n",
    "    txt = src[:-4] + '.txt'\n",
    "    \n",
    "    img = cv2.imread(jpg)\n",
    "    h,w = img.shape[:2]\n",
    "    if h >= 200:\n",
    "        tot_h200_cnt += 1\n",
    "        copyfile(jpg, os.path.join(main_path,src))\n",
    "        if txt in txt_list:\n",
    "            seg_h200_cnt += 1\n",
    "            copyfile(jpg, os.path.join(catch_path, src))\n",
    "        else:\n",
    "            copyfile(jpg, os.path.join(miss_path, src))\n",
    "    \n",
    "print('Height 200px 이상 총 개수 : ', tot_h200_cnt)\n",
    "print('segmentation 된 개수 : ', seg_h200_cnt)\n",
    "print('못 잡은 개수 : ', tot_h200_cnt - seg_h200_cnt)\n",
    "print('잡은 퍼센트 : ', round(seg_h200_cnt/tot_h200_cnt*100,2), '%')\n",
    "print('못 잡은 퍼센트 : ', round((tot_h200_cnt - seg_h200_cnt)/tot_h200_cnt*100,2), '%')"
   ]
  },
  {
   "cell_type": "code",
   "execution_count": null,
   "metadata": {},
   "outputs": [],
   "source": []
  }
 ],
 "metadata": {
  "kernelspec": {
   "display_name": "yolov8",
   "language": "python",
   "name": "python3"
  },
  "language_info": {
   "codemirror_mode": {
    "name": "ipython",
    "version": 3
   },
   "file_extension": ".py",
   "mimetype": "text/x-python",
   "name": "python",
   "nbconvert_exporter": "python",
   "pygments_lexer": "ipython3",
   "version": "3.7.16"
  },
  "orig_nbformat": 4
 },
 "nbformat": 4,
 "nbformat_minor": 2
}
