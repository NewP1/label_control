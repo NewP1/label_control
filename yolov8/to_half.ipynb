{
 "cells": [
  {
   "cell_type": "code",
   "execution_count": 1,
   "metadata": {},
   "outputs": [],
   "source": [
    "from glob import glob\n",
    "import cv2\n",
    "import os\n",
    "from tqdm import tqdm\n",
    "import sys"
   ]
  },
  {
   "cell_type": "code",
   "execution_count": 2,
   "metadata": {},
   "outputs": [],
   "source": [
    "def createDirectory(directory):\n",
    "    try:\n",
    "        if not os.path.exists(directory):\n",
    "            os.makedirs(directory)\n",
    "    except OSError:\n",
    "        print(\"Error: Failed to create the directory.\")"
   ]
  },
  {
   "attachments": {},
   "cell_type": "markdown",
   "metadata": {},
   "source": [
    "## resize_rate 변경 시 원하는 비율로 image resize 가능"
   ]
  },
  {
   "cell_type": "code",
   "execution_count": 3,
   "metadata": {},
   "outputs": [],
   "source": [
    "path = r'C:\\Users\\user\\yolov8\\datasets\\images\\test'\n",
    "des = r'C:\\Users\\user\\yolov8\\datasets\\images\\test_0.25'\n",
    "\n",
    "folder_list = os.listdir(path)\n",
    "\n",
    "# print(folder_list)\n",
    "\n",
    "\n",
    "resize_rate = .25"
   ]
  },
  {
   "cell_type": "code",
   "execution_count": 4,
   "metadata": {},
   "outputs": [
    {
     "name": "stderr",
     "output_type": "stream",
     "text": [
      "100%|██████████| 2042/2042 [00:16<00:00, 121.78it/s]\n"
     ]
    }
   ],
   "source": [
    "\n",
    "createDirectory(des)\n",
    "file_list = glob(os.path.join(path,'*.jpg'))\n",
    "for img in tqdm(file_list):\n",
    "    \n",
    "    src = cv2.imread(img)\n",
    "    if src is None:\n",
    "        print(\"img None\")\n",
    "        sys.exit()\n",
    "\n",
    "    change_src = cv2.resize(src, None, fx=resize_rate, fy=resize_rate, interpolation=cv2.INTER_AREA)\n",
    "    tmp = img[len(path)+1:]\n",
    "    cv2.imwrite(os.path.join(des, tmp), change_src)\n",
    "    "
   ]
  },
  {
   "cell_type": "code",
   "execution_count": null,
   "metadata": {},
   "outputs": [],
   "source": []
  }
 ],
 "metadata": {
  "kernelspec": {
   "display_name": "yolov7_seg",
   "language": "python",
   "name": "python3"
  },
  "language_info": {
   "codemirror_mode": {
    "name": "ipython",
    "version": 3
   },
   "file_extension": ".py",
   "mimetype": "text/x-python",
   "name": "python",
   "nbconvert_exporter": "python",
   "pygments_lexer": "ipython3",
   "version": "3.7.16"
  },
  "orig_nbformat": 4
 },
 "nbformat": 4,
 "nbformat_minor": 2
}
