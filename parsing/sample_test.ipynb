{
 "cells": [
  {
   "cell_type": "code",
   "execution_count": 1,
   "metadata": {},
   "outputs": [],
   "source": [
    "import os\n",
    "from glob import glob\n",
    "import cv2\n",
    "import json\n",
    "from tqdm import tqdm"
   ]
  },
  {
   "cell_type": "code",
   "execution_count": 2,
   "metadata": {},
   "outputs": [],
   "source": [
    "def createDirectory(directory):\n",
    "    try:\n",
    "        if not os.path.exists(directory):\n",
    "            os.makedirs(directory)\n",
    "    except OSError:\n",
    "        print(\"Error: Failed to create the directory.\")"
   ]
  },
  {
   "cell_type": "code",
   "execution_count": 3,
   "metadata": {},
   "outputs": [],
   "source": [
    "def label_make(i, labeling):\n",
    "    label = '99'\n",
    "    if i == '아우터':\n",
    "        if '카테고리' in labeling:\n",
    "            if labeling['카테고리'] == '베스트':\n",
    "                label = '3'\n",
    "            elif labeling['카테고리'] == '코트':\n",
    "                label = '7'\n",
    "            else:\n",
    "                label = '2'\n",
    "        # else:\n",
    "        #     label = '2'\n",
    "    elif i == '상의':\n",
    "        if '카테고리' in labeling:\n",
    "            if labeling['카테고리'] in ['블라우스', '셔츠']:\n",
    "                label = '0'\n",
    "            else:\n",
    "                label = '1'\n",
    "        # else:\n",
    "        #     label = '1'\n",
    "    elif i == '하의':\n",
    "        if '카테고리' in labeling:\n",
    "            if labeling['카테고리'] == '스커트':\n",
    "                label = '6'\n",
    "            elif labeling['카테고리'] in ['청바지','팬츠', '조거팬츠']:\n",
    "                if '기장' in labeling:\n",
    "                    if labeling['기장'] in ['미니', '니렝스']:\n",
    "                        label = '5'\n",
    "                    else:\n",
    "                        label = '4'\n",
    "                else: \n",
    "                    label = '4'\n",
    "        # else:\n",
    "        #     label = '4'\n",
    "    elif i == '원피스':\n",
    "        if '카테고리' in labeling:\n",
    "            if labeling['카테고리'] == '드레스':\n",
    "                label = '8'\n",
    "        # else:\n",
    "        #     label = '8'\n",
    "    return label"
   ]
  },
  {
   "cell_type": "code",
   "execution_count": 4,
   "metadata": {},
   "outputs": [
    {
     "name": "stdout",
     "output_type": "stream",
     "text": [
      "['레트로', '로맨틱', '리조트']\n"
     ]
    }
   ],
   "source": [
    "path = r'C:\\Users\\user\\Desktop\\k-fashion\\test'\n",
    "print(os.listdir(path))\n",
    "des_path = os.path.join(r'C:\\Users\\user\\Desktop\\k-fashion', 'labels_txt')\n",
    "createDirectory(des_path)"
   ]
  },
  {
   "cell_type": "code",
   "execution_count": 5,
   "metadata": {},
   "outputs": [],
   "source": [
    "for p in os.listdir(path):\n",
    "    tmp_path = os.path.join(path, p)\n",
    "    a = glob(os.path.join(tmp_path, '*.json'))\n",
    "\n",
    "    for file in a:\n",
    "        with open(file) as f:\n",
    "            text = json.load(f)\n",
    "        h, w = int(text['이미지 정보']['이미지 높이']), int(text['이미지 정보']['이미지 너비'])\n",
    "        t_name = file[len(path)+len(p)+2:-5] + '.txt'\n",
    "        m = text['데이터셋 정보']['데이터셋 상세설명']['폴리곤좌표']\n",
    "        final_result = []\n",
    "        for i in m:\n",
    "            result=[]\n",
    "            if m[i][0]:\n",
    "                labeling = text['데이터셋 정보']['데이터셋 상세설명']['라벨링'][i][0]\n",
    "                label = label_make(i, labeling)\n",
    "                if label != '99':\n",
    "                    result.append(label)\n",
    "                    k = sorted(m[i][0].items())\n",
    "                    k1 = k[:len(k)//2]\n",
    "                    k2 = k[len(k)//2:]\n",
    "                    tmp =[[0,0] for i in range(len(k)//2)]\n",
    "                    for x_item, y_item in zip(k1, k2):\n",
    "                        index = int(x_item[0][3:]) - 1\n",
    "                        if index >= len(tmp):\n",
    "                            y = [round(x_item[1]/w, 6), round(y_item[1]/h, 6)]\n",
    "                            tmp.append(y)\n",
    "                        else:\n",
    "                            tmp[index][0] = round(x_item[1]/w, 6)\n",
    "                            tmp[index][1] = round(y_item[1]/h, 6)\n",
    "                    tmp = [j for j in tmp if j != [0,0]]\n",
    "                    for point in tmp:\n",
    "                        result.append(str(point[0]))\n",
    "                        result.append(str(point[1]))\n",
    "                    final_result.append(result)\n",
    "        with open(os.path.join(des_path, t_name), 'w') as f:\n",
    "            for line in final_result:\n",
    "                f.write(' '.join(line)+'\\n')"
   ]
  },
  {
   "cell_type": "markdown",
   "metadata": {},
   "source": [
    "필요한거 : 상의 카테고리, 하의 카테고리, 아우터 카테고리, 원피스 카테고리\n",
    "\n",
    "            컬러..??\n",
    "\n",
    "            하의 기장, 아우터 기장\n",
    "            \n",
    "            소매기장..?"
   ]
  },
  {
   "cell_type": "markdown",
   "metadata": {},
   "source": [
    "1. 일단 각 폴리곤 좌표가 비어있는지\n",
    "2. "
   ]
  },
  {
   "cell_type": "markdown",
   "metadata": {},
   "source": [
    "### 상의 카테고리 분류\n",
    "- 탑, 티셔츠, 니트웨어, 후드티, 브라탑\n",
    "- 블라우스, 셔츠\n",
    "\n",
    "* 상의 기장 신경 쓸 필요 없음\n",
    "___\n",
    "\n",
    "### 하의 카테고리\n",
    "- 청바지, 팬츠, 레깅스, 조거팬츠 -> 레깅스 넣을 건지 판단\n",
    "- 스커트\n",
    "\n",
    "*  하의 기장 < 바지만! >\n",
    "1. 미니 니렝스 \n",
    "2. 미디 발목 맥시\n",
    "___\n",
    "### 아우터 카테고리 분류\n",
    "- 코트, 패딩..?\n",
    "- 재킷, 점퍼, 가디건, 짚업\n",
    "- 베스트\n",
    "\n",
    "* 현재 데이터셋의 아우터 분류는 기장으로 했으므로\n",
    "이 데이터셋의 카테고리보다 기장으로 분류하는게 나을 수도 있음\n",
    "___\n",
    "### 원피스 카테고리 분류\n",
    "- 드레스\n",
    "- 점프수트는 배제\n",
    "\n",
    "* 기장 필요 없음\n",
    "\n",
    "___\n",
    "### 컬러 필요하면 사용\n"
   ]
  }
 ],
 "metadata": {
  "kernelspec": {
   "display_name": "yolov8",
   "language": "python",
   "name": "python3"
  },
  "language_info": {
   "codemirror_mode": {
    "name": "ipython",
    "version": 3
   },
   "file_extension": ".py",
   "mimetype": "text/x-python",
   "name": "python",
   "nbconvert_exporter": "python",
   "pygments_lexer": "ipython3",
   "version": "3.7.16"
  },
  "orig_nbformat": 4
 },
 "nbformat": 4,
 "nbformat_minor": 2
}
