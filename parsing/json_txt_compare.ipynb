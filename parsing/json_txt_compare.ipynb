{
 "cells": [
  {
   "cell_type": "code",
   "execution_count": 1,
   "metadata": {},
   "outputs": [],
   "source": [
    "import os\n",
    "from glob import glob\n",
    "import cv2\n",
    "import json\n",
    "from tqdm import tqdm"
   ]
  },
  {
   "cell_type": "code",
   "execution_count": 2,
   "metadata": {},
   "outputs": [],
   "source": [
    "def label_make(i, labeling):\n",
    "    label = '99'\n",
    "    if i == '아우터':\n",
    "        if '카테고리' in labeling:\n",
    "            if labeling['카테고리'] == '베스트':\n",
    "                label = '3'\n",
    "            elif labeling['카테고리'] == '코트':\n",
    "                label = '7'\n",
    "            else:\n",
    "                label = '2'\n",
    "        # else:\n",
    "        #     label = '2'\n",
    "    elif i == '상의':\n",
    "        if '카테고리' in labeling:\n",
    "            if labeling['카테고리'] in ['블라우스', '셔츠']:\n",
    "                label = '0'\n",
    "            else:\n",
    "                label = '1'\n",
    "        # else:\n",
    "        #     label = '1'\n",
    "    elif i == '하의':\n",
    "        if '카테고리' in labeling:\n",
    "            if labeling['카테고리'] == '스커트':\n",
    "                label = '6'\n",
    "            elif labeling['카테고리'] in ['청바지','팬츠', '조거팬츠']:\n",
    "                if '기장' in labeling:\n",
    "                    if labeling['기장'] in ['미니', '니렝스']:\n",
    "                        label = '5'\n",
    "                    else:\n",
    "                        label = '4'\n",
    "                else: \n",
    "                    label = '4'\n",
    "        # else:\n",
    "        #     label = '4'\n",
    "    elif i == '원피스':\n",
    "        if '카테고리' in labeling:\n",
    "            if labeling['카테고리'] == '드레스':\n",
    "                label = '8'\n",
    "        # else:\n",
    "        #     label = '8'\n",
    "    return label"
   ]
  },
  {
   "cell_type": "code",
   "execution_count": 3,
   "metadata": {},
   "outputs": [],
   "source": [
    "path = r'C:\\Users\\user\\Desktop\\compare'"
   ]
  },
  {
   "cell_type": "code",
   "execution_count": 4,
   "metadata": {},
   "outputs": [
    {
     "name": "stdout",
     "output_type": "stream",
     "text": [
      "800 800\n",
      "\n",
      " 6\n",
      "[('X좌표1', 341.0), ('X좌표10', 545.0), ('X좌표11', 548.0), ('X좌표12', 564.0), ('X좌표13', 473.0), ('X좌표2', 227.0), ('X좌표3', 255.0), ('X좌표4', 252.0), ('X좌표5', 249.0), ('X좌표6', 379.0), ('X좌표7', 474.0), ('X좌표8', 550.0), ('X좌표9', 559.0)]\n",
      "[('Y좌표1', 83.0), ('Y좌표10', 407.0), ('Y좌표11', 261.0), ('Y좌표12', 151.0), ('Y좌표13', 111.0), ('Y좌표2', 140.0), ('Y좌표3', 270.0), ('Y좌표4', 422.0), ('Y좌표5', 638.0), ('Y좌표6', 643.0), ('Y좌표7', 652.0), ('Y좌표8', 640.0), ('Y좌표9', 478.0)]\n",
      "13\n",
      "[[0.42625, 0.10375], [0.28375, 0.175], [0.31875, 0.3375], [0.315, 0.5275], [0.31125, 0.7975], [0.47375, 0.80375], [0.5925, 0.815], [0.6875, 0.8], [0.69875, 0.5975], [0.68125, 0.50875], [0.685, 0.32625], [0.705, 0.18875], [0.59125, 0.13875]]\n",
      "[[0.42625, 0.10375], [0.28375, 0.175], [0.31875, 0.3375], [0.315, 0.5275], [0.31125, 0.7975], [0.47375, 0.80375], [0.5925, 0.815], [0.6875, 0.8], [0.69875, 0.5975], [0.68125, 0.50875], [0.685, 0.32625], [0.705, 0.18875], [0.59125, 0.13875]]\n",
      "\n",
      " 0\n",
      "[('X좌표1', 346.0), ('X좌표10', 413.0), ('X좌표11', 483.0), ('X좌표12', 535.0), ('X좌표13', 554.0), ('X좌표14', 550.0), ('X좌표15', 548.0), ('X좌표16', 536.0), ('X좌표17', 554.0), ('X좌표18', 466.0), ('X좌표19', 451.0), ('X좌표2', 269.0), ('X좌표20', 390.0), ('X좌표21', 355.0), ('X좌표22', 348.0), ('X좌표3', 234.0), ('X좌표4', 255.0), ('X좌표5', 240.0), ('X좌표6', 246.0), ('X좌표7', 280.0), ('X좌표8', 338.0), ('X좌표9', 382.0)]\n",
      "[('Y좌표1', 85.0), ('Y좌표10', 642.0), ('Y좌표11', 655.0), ('Y좌표12', 651.0), ('Y좌표13', 586.0), ('Y좌표14', 388.0), ('Y좌표15', 318.0), ('Y좌표16', 230.0), ('Y좌표17', 140.0), ('Y좌표18', 101.0), ('Y좌표19', 90.0), ('Y좌표2', 119.0), ('Y좌표20', 153.0), ('Y좌표21', 127.0), ('Y좌표22', 88.0), ('Y좌표3', 141.0), ('Y좌표4', 410.0), ('Y좌표5', 557.0), ('Y좌표6', 623.0), ('Y좌표7', 640.0), ('Y좌표8', 640.0), ('Y좌표9', 628.0)]\n",
      "22\n",
      "[[0.4325, 0.10625], [0.33625, 0.14875], [0.2925, 0.17625], [0.31875, 0.5125], [0.3, 0.69625], [0.3075, 0.77875], [0.35, 0.8], [0.4225, 0.8], [0.4775, 0.785], [0.51625, 0.8025], [0.60375, 0.81875], [0.66875, 0.81375], [0.6925, 0.7325], [0.6875, 0.485], [0.685, 0.3975], [0.67, 0.2875], [0.6925, 0.175], [0.5825, 0.12625], [0.56375, 0.1125], [0.4875, 0.19125], [0.44375, 0.15875], [0.435, 0.11]]\n",
      "[[0.4325, 0.10625], [0.33625, 0.14875], [0.2925, 0.17625], [0.31875, 0.5125], [0.3, 0.69625], [0.3075, 0.77875], [0.35, 0.8], [0.4225, 0.8], [0.4775, 0.785], [0.51625, 0.8025], [0.60375, 0.81875], [0.66875, 0.81375], [0.6925, 0.7325], [0.6875, 0.485], [0.685, 0.3975], [0.67, 0.2875], [0.6925, 0.175], [0.5825, 0.12625], [0.56375, 0.1125], [0.4875, 0.19125], [0.44375, 0.15875], [0.435, 0.11]]\n"
     ]
    }
   ],
   "source": [
    "for p in os.listdir(path):\n",
    "    tmp_path = os.path.join(path, p)\n",
    "    a = glob(os.path.join(tmp_path, '*.json'))\n",
    "\n",
    "    for file in a:\n",
    "        with open(file) as f:\n",
    "            text = json.load(f)\n",
    "        h, w = int(text['이미지 정보']['이미지 높이']), int(text['이미지 정보']['이미지 너비'])\n",
    "        print(h,w)\n",
    "        t_name = file[len(path)+len(p)+2:-5] + '.txt'\n",
    "        m = text['데이터셋 정보']['데이터셋 상세설명']['폴리곤좌표']\n",
    "        final_result = []\n",
    "        for i in m:\n",
    "            result=[]\n",
    "            if m[i][0]:\n",
    "                labeling = text['데이터셋 정보']['데이터셋 상세설명']['라벨링'][i][0]\n",
    "                label = label_make(i, labeling)\n",
    "                if label != '99':\n",
    "                    result.append(label)    \n",
    "                    print('\\n',label)    \n",
    "                    k = sorted(m[i][0].items())\n",
    "                    k1 = k[:len(k)//2]\n",
    "                    k2 = k[len(k)//2:]\n",
    "                    print(k1)\n",
    "                    print(k2)\n",
    "                    print(len(k)//2)\n",
    "                    tmp =[[0,0] for i in range(len(k)//2)]\n",
    "                    for x_item, y_item in zip(k1, k2):\n",
    "                        index = int(x_item[0][3:]) - 1\n",
    "                        if index >= len(tmp):\n",
    "                            y = [round(x_item[1]/w, 6), round(y_item[1]/h, 6)]\n",
    "                            tmp.append(y)\n",
    "                        else:\n",
    "                            tmp[index][0] = round(x_item[1]/w, 6)\n",
    "                            tmp[index][1] = round(y_item[1]/h, 6)\n",
    "                    print(tmp)\n",
    "                    tmp = [j for j in tmp if j != [0,0]]\n",
    "                    print(tmp)\n",
    "                    for point in tmp:\n",
    "                        result.append(str(point[0]))\n",
    "                        result.append(str(point[1]))\n",
    "                    final_result.append(result)\n"
   ]
  }
 ],
 "metadata": {
  "kernelspec": {
   "display_name": "yolov8",
   "language": "python",
   "name": "python3"
  },
  "language_info": {
   "codemirror_mode": {
    "name": "ipython",
    "version": 3
   },
   "file_extension": ".py",
   "mimetype": "text/x-python",
   "name": "python",
   "nbconvert_exporter": "python",
   "pygments_lexer": "ipython3",
   "version": "3.7.16"
  },
  "orig_nbformat": 4
 },
 "nbformat": 4,
 "nbformat_minor": 2
}
