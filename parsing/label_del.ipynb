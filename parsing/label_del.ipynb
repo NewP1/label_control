{
 "cells": [
  {
   "cell_type": "code",
   "execution_count": 1,
   "metadata": {},
   "outputs": [],
   "source": [
    "import os\n",
    "from glob import glob\n",
    "import cv2\n",
    "import json\n",
    "from tqdm import tqdm"
   ]
  },
  {
   "cell_type": "code",
   "execution_count": 2,
   "metadata": {},
   "outputs": [],
   "source": [
    "def createDirectory(directory):\n",
    "    try:\n",
    "        if not os.path.exists(directory):\n",
    "            os.makedirs(directory)\n",
    "    except OSError:\n",
    "        print(\"Error: Failed to create the directory.\")"
   ]
  },
  {
   "cell_type": "code",
   "execution_count": 3,
   "metadata": {},
   "outputs": [],
   "source": [
    "def label_make(i, labeling):\n",
    "    label = '99'\n",
    "    if i == '아우터':\n",
    "        if '카테고리' not in labeling:\n",
    "            label = '88'\n",
    "\n",
    "    elif i == '상의':\n",
    "        if '카테고리' not in labeling:\n",
    "            label = '88'\n",
    "\n",
    "    elif i == '하의':\n",
    "        if '카테고리' not in labeling:\n",
    "            label = '88'\n",
    "\n",
    "    elif i == '원피스':\n",
    "        if '카테고리' not in labeling:\n",
    "            label = '88'\n",
    "    return label"
   ]
  },
  {
   "cell_type": "code",
   "execution_count": 4,
   "metadata": {},
   "outputs": [
    {
     "name": "stdout",
     "output_type": "stream",
     "text": [
      "['기타', '레트로', '로맨틱', '리조트', '매니시', '모던', '밀리터리', '섹시', '소피스트케이티드', '스트리트', '스포티', '아방가르드', '오리엔탈', '웨스턴', '젠더리스', '컨트리', '클래식', '키치', '톰보이', '펑크', '페미닌', '프레피', '히피', '힙합']\n"
     ]
    }
   ],
   "source": [
    "path = r'C:\\Users\\user\\parsing\\dataset\\Validation\\라벨링데이터'\n",
    "print(os.listdir(path))\n",
    "# des_txt = os.path.join(r'C:\\Users\\user\\parsing', 'val_delfile.txt')"
   ]
  },
  {
   "cell_type": "code",
   "execution_count": 5,
   "metadata": {},
   "outputs": [
    {
     "name": "stderr",
     "output_type": "stream",
     "text": [
      "  0%|          | 0/24 [00:00<?, ?it/s]"
     ]
    },
    {
     "name": "stdout",
     "output_type": "stream",
     "text": [
      "기타\n"
     ]
    },
    {
     "name": "stderr",
     "output_type": "stream",
     "text": [
      "100%|██████████| 546/546 [00:07<00:00, 73.38it/s] \n",
      "  4%|▍         | 1/24 [00:07<02:51,  7.44s/it]"
     ]
    },
    {
     "name": "stdout",
     "output_type": "stream",
     "text": [
      "레트로\n"
     ]
    },
    {
     "name": "stderr",
     "output_type": "stream",
     "text": [
      "100%|██████████| 845/845 [00:16<00:00, 51.40it/s]\n",
      "  8%|▊         | 2/24 [00:23<04:40, 12.74s/it]"
     ]
    },
    {
     "name": "stdout",
     "output_type": "stream",
     "text": [
      "로맨틱\n"
     ]
    },
    {
     "name": "stderr",
     "output_type": "stream",
     "text": [
      "100%|██████████| 9130/9130 [02:32<00:00, 59.70it/s] \n",
      " 12%|█▎        | 3/24 [02:56<26:52, 76.76s/it]"
     ]
    },
    {
     "name": "stdout",
     "output_type": "stream",
     "text": [
      "리조트\n"
     ]
    },
    {
     "name": "stderr",
     "output_type": "stream",
     "text": [
      "100%|██████████| 10434/10434 [03:13<00:00, 53.93it/s] \n",
      " 17%|█▋        | 4/24 [06:10<40:57, 122.86s/it]"
     ]
    },
    {
     "name": "stdout",
     "output_type": "stream",
     "text": [
      "매니시\n"
     ]
    },
    {
     "name": "stderr",
     "output_type": "stream",
     "text": [
      "100%|██████████| 1091/1091 [00:19<00:00, 54.60it/s]\n",
      " 21%|██        | 5/24 [06:30<27:09, 85.76s/it] "
     ]
    },
    {
     "name": "stdout",
     "output_type": "stream",
     "text": [
      "모던\n"
     ]
    },
    {
     "name": "stderr",
     "output_type": "stream",
     "text": [
      "100%|██████████| 9997/9997 [02:58<00:00, 56.16it/s]\n",
      " 25%|██▌       | 6/24 [09:28<35:08, 117.14s/it]"
     ]
    },
    {
     "name": "stdout",
     "output_type": "stream",
     "text": [
      "밀리터리\n"
     ]
    },
    {
     "name": "stderr",
     "output_type": "stream",
     "text": [
      "100%|██████████| 449/449 [00:09<00:00, 49.19it/s]\n",
      " 29%|██▉       | 7/24 [09:37<23:11, 81.83s/it] "
     ]
    },
    {
     "name": "stdout",
     "output_type": "stream",
     "text": [
      "섹시\n"
     ]
    },
    {
     "name": "stderr",
     "output_type": "stream",
     "text": [
      "100%|██████████| 794/794 [00:14<00:00, 54.11it/s]\n",
      " 33%|███▎      | 8/24 [09:52<16:07, 60.45s/it]"
     ]
    },
    {
     "name": "stdout",
     "output_type": "stream",
     "text": [
      "소피스트케이티드\n"
     ]
    },
    {
     "name": "stderr",
     "output_type": "stream",
     "text": [
      "100%|██████████| 4049/4049 [01:04<00:00, 63.01it/s] \n",
      " 38%|███▊      | 9/24 [10:56<15:24, 61.64s/it]"
     ]
    },
    {
     "name": "stdout",
     "output_type": "stream",
     "text": [
      "스트리트\n"
     ]
    },
    {
     "name": "stderr",
     "output_type": "stream",
     "text": [
      "100%|██████████| 56138/56138 [16:06<00:00, 58.11it/s] \n",
      " 42%|████▏     | 10/24 [27:02<1:19:32, 340.89s/it]"
     ]
    },
    {
     "name": "stdout",
     "output_type": "stream",
     "text": [
      "스포티\n"
     ]
    },
    {
     "name": "stderr",
     "output_type": "stream",
     "text": [
      "100%|██████████| 1831/1831 [00:25<00:00, 70.48it/s]\n",
      " 46%|████▌     | 11/24 [27:28<52:58, 244.51s/it]  "
     ]
    },
    {
     "name": "stdout",
     "output_type": "stream",
     "text": [
      "아방가르드\n"
     ]
    },
    {
     "name": "stderr",
     "output_type": "stream",
     "text": [
      "100%|██████████| 459/459 [00:08<00:00, 55.68it/s]\n",
      " 50%|█████     | 12/24 [27:36<34:31, 172.64s/it]"
     ]
    },
    {
     "name": "stdout",
     "output_type": "stream",
     "text": [
      "오리엔탈\n"
     ]
    },
    {
     "name": "stderr",
     "output_type": "stream",
     "text": [
      "100%|██████████| 512/512 [00:10<00:00, 48.81it/s]\n",
      " 54%|█████▍    | 13/24 [27:47<22:38, 123.52s/it]"
     ]
    },
    {
     "name": "stdout",
     "output_type": "stream",
     "text": [
      "웨스턴\n"
     ]
    },
    {
     "name": "stderr",
     "output_type": "stream",
     "text": [
      "100%|██████████| 220/220 [00:04<00:00, 45.51it/s]\n",
      " 58%|█████▊    | 14/24 [27:52<14:36, 87.67s/it] "
     ]
    },
    {
     "name": "stdout",
     "output_type": "stream",
     "text": [
      "젠더리스\n"
     ]
    },
    {
     "name": "stderr",
     "output_type": "stream",
     "text": [
      "100%|██████████| 1547/1547 [00:26<00:00, 58.57it/s] \n",
      " 62%|██████▎   | 15/24 [28:18<10:22, 69.21s/it]"
     ]
    },
    {
     "name": "stdout",
     "output_type": "stream",
     "text": [
      "컨트리\n"
     ]
    },
    {
     "name": "stderr",
     "output_type": "stream",
     "text": [
      "100%|██████████| 4065/4065 [01:11<00:00, 56.46it/s]\n",
      " 67%|██████▋   | 16/24 [29:30<09:20, 70.05s/it]"
     ]
    },
    {
     "name": "stdout",
     "output_type": "stream",
     "text": [
      "클래식\n"
     ]
    },
    {
     "name": "stderr",
     "output_type": "stream",
     "text": [
      "100%|██████████| 4931/4931 [01:20<00:00, 60.97it/s] \n",
      " 71%|███████   | 17/24 [30:51<08:33, 73.31s/it]"
     ]
    },
    {
     "name": "stdout",
     "output_type": "stream",
     "text": [
      "키치\n"
     ]
    },
    {
     "name": "stderr",
     "output_type": "stream",
     "text": [
      "100%|██████████| 602/602 [00:10<00:00, 58.99it/s]\n",
      " 75%|███████▌  | 18/24 [31:01<05:26, 54.35s/it]"
     ]
    },
    {
     "name": "stdout",
     "output_type": "stream",
     "text": [
      "톰보이\n"
     ]
    },
    {
     "name": "stderr",
     "output_type": "stream",
     "text": [
      "100%|██████████| 941/941 [00:16<00:00, 58.20it/s]\n",
      " 79%|███████▉  | 19/24 [31:17<03:34, 42.88s/it]"
     ]
    },
    {
     "name": "stdout",
     "output_type": "stream",
     "text": [
      "펑크\n"
     ]
    },
    {
     "name": "stderr",
     "output_type": "stream",
     "text": [
      "100%|██████████| 51/51 [00:01<00:00, 50.92it/s]\n",
      " 83%|████████▎ | 20/24 [31:18<02:01, 30.31s/it]"
     ]
    },
    {
     "name": "stdout",
     "output_type": "stream",
     "text": [
      "페미닌\n"
     ]
    },
    {
     "name": "stderr",
     "output_type": "stream",
     "text": [
      "100%|██████████| 11060/11060 [03:02<00:00, 60.66it/s] \n",
      " 88%|████████▊ | 21/24 [34:21<03:47, 75.95s/it]"
     ]
    },
    {
     "name": "stdout",
     "output_type": "stream",
     "text": [
      "프레피\n"
     ]
    },
    {
     "name": "stderr",
     "output_type": "stream",
     "text": [
      "100%|██████████| 321/321 [00:05<00:00, 62.01it/s]\n",
      " 92%|█████████▏| 22/24 [34:26<01:49, 54.71s/it]"
     ]
    },
    {
     "name": "stdout",
     "output_type": "stream",
     "text": [
      "히피\n"
     ]
    },
    {
     "name": "stderr",
     "output_type": "stream",
     "text": [
      "100%|██████████| 809/809 [00:14<00:00, 57.21it/s]\n",
      " 96%|█████████▌| 23/24 [34:40<00:42, 42.54s/it]"
     ]
    },
    {
     "name": "stdout",
     "output_type": "stream",
     "text": [
      "힙합\n"
     ]
    },
    {
     "name": "stderr",
     "output_type": "stream",
     "text": [
      "100%|██████████| 153/153 [00:02<00:00, 55.79it/s]\n",
      "100%|██████████| 24/24 [34:43<00:00, 86.81s/it]\n"
     ]
    }
   ],
   "source": [
    "# del_list = []\n",
    "des_path = r'C:\\Users\\user\\parsing\\result\\val'\n",
    "for p in tqdm(os.listdir(path)):\n",
    "    tmp_path = os.path.join(path, p)\n",
    "    print(p)\n",
    "    a = glob(os.path.join(tmp_path, '*.json'))\n",
    "    for file in tqdm(a):\n",
    "        with open(file) as f:\n",
    "            text = json.load(f)\n",
    "        h, w = int(text['이미지 정보']['이미지 높이']), int(text['이미지 정보']['이미지 너비'])\n",
    "        t_name = file[len(path)+len(p)+2:-5] + '.txt'\n",
    "        m = text['데이터셋 정보']['데이터셋 상세설명']['폴리곤좌표']\n",
    "        l = text['데이터셋 정보']['데이터셋 상세설명']['라벨링']\n",
    "        for i in m:\n",
    "            mi = m[i]\n",
    "            li = l[i]\n",
    "            if mi[0]:\n",
    "                labeling = text['데이터셋 정보']['데이터셋 상세설명']['라벨링'][i][0]\n",
    "                label = label_make(i, labeling)\n",
    "                if label == '88':\n",
    "                    # del_list.append(t_name)\n",
    "                    os.remove(os.path.join(des_path,t_name))\n",
    "                    break\n",
    "            else:\n",
    "                if li[0]:\n",
    "                    # del_list.append(t_name)\n",
    "                    os.remove(os.path.join(des_path,t_name))\n",
    "                    break\n",
    "# print(len(del_list))\n"
   ]
  },
  {
   "cell_type": "code",
   "execution_count": 6,
   "metadata": {},
   "outputs": [
    {
     "name": "stderr",
     "output_type": "stream",
     "text": [
      "100%|██████████| 104189/104189 [03:55<00:00, 442.62it/s]\n"
     ]
    }
   ],
   "source": [
    "# txt2_list = glob(os.path.join(des_path, '*.txt'))\n",
    "# for file in tqdm(txt2_list):\n",
    "#     with open(file, 'r') as f:\n",
    "#         lines = f.readlines()\n",
    "#     if not lines:\n",
    "#         os.remove(file)"
   ]
  },
  {
   "cell_type": "markdown",
   "metadata": {},
   "source": [
    "필요한거 : 상의 카테고리, 하의 카테고리, 아우터 카테고리, 원피스 카테고리\n",
    "\n",
    "            컬러..??\n",
    "\n",
    "            하의 기장, 아우터 기장\n",
    "            \n",
    "            소매기장..?"
   ]
  },
  {
   "cell_type": "markdown",
   "metadata": {},
   "source": [
    "1. 일단 각 폴리곤 좌표가 비어있는지\n",
    "2. "
   ]
  },
  {
   "cell_type": "markdown",
   "metadata": {},
   "source": [
    "### 상의 카테고리 분류\n",
    "- 탑, 티셔츠, 니트웨어, 후드티, 브라탑\n",
    "- 블라우스, 셔츠\n",
    "\n",
    "* 상의 기장 신경 쓸 필요 없음\n",
    "___\n",
    "\n",
    "### 하의 카테고리\n",
    "- 청바지, 팬츠, 레깅스, 조거팬츠 -> 레깅스 넣을 건지 판단\n",
    "- 스커트\n",
    "\n",
    "*  하의 기장 < 바지만! >\n",
    "1. 미니 니렝스 \n",
    "2. 미디 발목 맥시\n",
    "___\n",
    "### 아우터 카테고리 분류\n",
    "- 코트, 패딩..?\n",
    "- 재킷, 점퍼, 가디건, 짚업\n",
    "- 베스트\n",
    "\n",
    "* 현재 데이터셋의 아우터 분류는 기장으로 했으므로\n",
    "이 데이터셋의 카테고리보다 기장으로 분류하는게 나을 수도 있음\n",
    "___\n",
    "### 원피스 카테고리 분류\n",
    "- 드레스\n",
    "- 점프수트는 배제\n",
    "\n",
    "* 기장 필요 없음\n",
    "\n",
    "___\n",
    "### 컬러 필요하면 사용\n"
   ]
  }
 ],
 "metadata": {
  "kernelspec": {
   "display_name": "yolov8",
   "language": "python",
   "name": "python3"
  },
  "language_info": {
   "codemirror_mode": {
    "name": "ipython",
    "version": 3
   },
   "file_extension": ".py",
   "mimetype": "text/x-python",
   "name": "python",
   "nbconvert_exporter": "python",
   "pygments_lexer": "ipython3",
   "version": "3.7.16"
  },
  "orig_nbformat": 4
 },
 "nbformat": 4,
 "nbformat_minor": 2
}
