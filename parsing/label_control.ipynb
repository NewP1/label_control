{
 "cells": [
  {
   "cell_type": "markdown",
   "metadata": {},
   "source": [
    "# 개수만 확인"
   ]
  },
  {
   "cell_type": "code",
   "execution_count": 1,
   "metadata": {},
   "outputs": [],
   "source": [
    "from glob import glob\n",
    "import os\n",
    "from tqdm import tqdm"
   ]
  },
  {
   "cell_type": "code",
   "execution_count": 7,
   "metadata": {},
   "outputs": [
    {
     "name": "stderr",
     "output_type": "stream",
     "text": [
      "100%|██████████| 826328/826328 [00:30<00:00, 27224.47it/s]"
     ]
    },
    {
     "name": "stdout",
     "output_type": "stream",
     "text": [
      "총 labeling 개수 :  1232094\n",
      "[166621, 336545, 84296, 13166, 289767, 52553, 105647, 24812, 158687, 0, 0, 0, 0, 0, 0, 0, 0, 0, 0, 0]\n",
      "셔츠 :  166621\n",
      "맨투맨 :  336545\n",
      "자켓 :  84296\n",
      "조끼 :  13166\n",
      "바지 :  289767\n",
      "반바지 :  52553\n",
      "치마 :  105647\n",
      "코트 :  24812\n",
      "드레스 :  158687\n"
     ]
    },
    {
     "name": "stderr",
     "output_type": "stream",
     "text": [
      "\n"
     ]
    }
   ],
   "source": [
    "txt_path = r'C:\\Users\\user\\parsing\\result\\train'\n",
    "test_list = glob(os.path.join(txt_path,'*.txt'))\n",
    "tot_count = 0\n",
    "count = [0] * 20\n",
    "empty_cnt = 0\n",
    "\n",
    "for file in tqdm(test_list):\n",
    "    with open(file, 'r') as f:\n",
    "        lines = f.readlines()\n",
    "    if not lines:\n",
    "        empty_cnt += 1\n",
    "    else:\n",
    "        for line in lines:\n",
    "            tot_count += 1\n",
    "            index = int(line.split()[0])\n",
    "            # if index == 7:\n",
    "            #     print(file)    \n",
    "            count[index] += 1\n",
    "\n",
    "print('총 labeling 개수 : ', tot_count)\n",
    "\n",
    "print(count)\n",
    "print('셔츠 : ', count[0])\n",
    "print('맨투맨 : ', count[1])\n",
    "print('자켓 : ', count[2])\n",
    "print('조끼 : ', count[3])\n",
    "print('바지 : ', count[4])\n",
    "print('반바지 : ', count[5])\n",
    "print('치마 : ', count[6])\n",
    "print('코트 : ', count[7])\n",
    "print('드레스 : ', count[8])\n",
    "# print('검은색 상의 : ', count[15])\n",
    "# print('검은색 외투 : ', count[16])"
   ]
  },
  {
   "cell_type": "markdown",
   "metadata": {},
   "source": [
    "### Training set\n",
    "\n",
    "100%|██████████| 826328/826328 [00:30<00:00, 27224.47it/s]<br>\n",
    "총 labeling 개수 :  1232094<br>\n",
    "[166621, 336545, 84296, 13166, 289767, 52553, 105647, 24812, 158687, 0, 0, 0, 0, 0, 0, 0, 0, 0, 0, 0]<br>\n",
    "셔츠 :  166621<br>\n",
    "맨투맨 :  336545<br>\n",
    "자켓 :  84296<br>\n",
    "조끼 :  13166<br>\n",
    "바지 :  289767<br>\n",
    "반바지 :  52553<br>\n",
    "치마 :  105647<br>\n",
    "코트 :  24812<br>\n",
    "드레스 :  158687"
   ]
  },
  {
   "cell_type": "markdown",
   "metadata": {},
   "source": [
    "___"
   ]
  },
  {
   "cell_type": "markdown",
   "metadata": {},
   "source": [
    "### Validation set\n",
    "\n",
    "100%|██████████| 103200/103200 [00:03<00:00, 28877.06it/s]<br>\n",
    "총 labeling 개수 :  153766<br>\n",
    "[20798, 41924, 10565, 1661, 36160, 6531, 13211, 3117, 19799, 0, 0, 0, 0, 0, 0, 0, 0, 0, 0, 0]<br>\n",
    "셔츠 :  20798<br>\n",
    "맨투맨 :  41924<br>\n",
    "자켓 :  10565<br>\n",
    "조끼 :  1661<br>\n",
    "바지 :  36160<br>\n",
    "반바지 :  6531<br>\n",
    "치마 :  13211<br>\n",
    "코트 :  3117<br>\n",
    "드레스 :  19799"
   ]
  },
  {
   "cell_type": "code",
   "execution_count": 3,
   "metadata": {},
   "outputs": [
    {
     "name": "stdout",
     "output_type": "stream",
     "text": [
      "826328\n",
      "103200\n"
     ]
    }
   ],
   "source": [
    "print(len(os.listdir(r'C:\\Users\\user\\parsing\\result\\train')))\n",
    "print(len(os.listdir(r'C:\\Users\\user\\parsing\\result\\val')))"
   ]
  },
  {
   "cell_type": "markdown",
   "metadata": {},
   "source": [
    "## 빈파일 확인"
   ]
  },
  {
   "cell_type": "code",
   "execution_count": 159,
   "metadata": {},
   "outputs": [],
   "source": [
    "from glob import glob\n",
    "import os\n",
    "from tqdm import tqdm"
   ]
  },
  {
   "cell_type": "code",
   "execution_count": 5,
   "metadata": {},
   "outputs": [
    {
     "name": "stderr",
     "output_type": "stream",
     "text": [
      "100%|██████████| 826328/826328 [32:20<00:00, 425.91it/s]"
     ]
    },
    {
     "name": "stdout",
     "output_type": "stream",
     "text": [
      "빈 labeling 개수 :  0\n"
     ]
    },
    {
     "name": "stderr",
     "output_type": "stream",
     "text": [
      "\n"
     ]
    }
   ],
   "source": [
    "path = r'C:\\Users\\user\\parsing\\result\\train'\n",
    "txt_list = glob(os.path.join(path, '*.txt'))\n",
    "empty_cnt = 0\n",
    "\n",
    "for file in tqdm(txt_list):\n",
    "    with open(file, 'r') as f:\n",
    "        lines = f.readlines()\n",
    "    if not lines:\n",
    "        empty_cnt += 1\n",
    "print('빈 labeling 개수 : ', empty_cnt)"
   ]
  },
  {
   "cell_type": "markdown",
   "metadata": {},
   "source": [
    "## 삭제"
   ]
  },
  {
   "cell_type": "code",
   "execution_count": null,
   "metadata": {},
   "outputs": [],
   "source": [
    "# del_path = txt_path#r'C:\\Users\\user\\parsing\\result\\train'\n",
    "\n",
    "# txt1_list = glob(os.path.join(path, '*.txt'))\n",
    "# with open(r'C:\\Users\\user\\parsing\\train_delfile.txt','r') as f:\n",
    "#     del_list = f.readlines()\n",
    "# print(del_list[:5])\n",
    "# for file in tqdm(del_list):\n",
    "#     des_file = os.path.join(r'destination', file)\n",
    "#     # os.remove(des_file)\n",
    "    \n",
    "# txt2_list = glob(os.path.join(path, '*.txt'))\n",
    "# for file in tqdm(txt_list):\n",
    "#     with open(file, 'r') as f:\n",
    "#         lines = f.readlines()\n",
    "#     if not lines:\n",
    "#         des_file = os.path.join(r'destination', file)\n",
    "#         # os.remove(des_file)\n"
   ]
  }
 ],
 "metadata": {
  "kernelspec": {
   "display_name": "yolov8",
   "language": "python",
   "name": "python3"
  },
  "language_info": {
   "codemirror_mode": {
    "name": "ipython",
    "version": 3
   },
   "file_extension": ".py",
   "mimetype": "text/x-python",
   "name": "python",
   "nbconvert_exporter": "python",
   "pygments_lexer": "ipython3",
   "version": "3.7.16"
  },
  "orig_nbformat": 4
 },
 "nbformat": 4,
 "nbformat_minor": 2
}
