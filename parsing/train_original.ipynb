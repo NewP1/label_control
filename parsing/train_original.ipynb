{
 "cells": [
  {
   "cell_type": "code",
   "execution_count": 1,
   "metadata": {},
   "outputs": [],
   "source": [
    "import os\n",
    "from glob import glob\n",
    "import cv2\n",
    "import json\n",
    "from tqdm import tqdm"
   ]
  },
  {
   "cell_type": "code",
   "execution_count": 2,
   "metadata": {},
   "outputs": [],
   "source": [
    "def createDirectory(directory):\n",
    "    try:\n",
    "        if not os.path.exists(directory):\n",
    "            os.makedirs(directory)\n",
    "    except OSError:\n",
    "        print(\"Error: Failed to create the directory.\")"
   ]
  },
  {
   "cell_type": "code",
   "execution_count": 3,
   "metadata": {},
   "outputs": [],
   "source": [
    "def label_make(i, labeling):\n",
    "    label = '99'\n",
    "    if i == '아우터':\n",
    "        if '카테고리' in labeling:\n",
    "            if labeling['카테고리'] == '베스트':\n",
    "                label = '3'\n",
    "            elif labeling['카테고리'] == '코트':\n",
    "                label = '7'\n",
    "            else:\n",
    "                label = '2'\n",
    "        # else:\n",
    "        #     label = '2'\n",
    "    elif i == '상의':\n",
    "        if '카테고리' in labeling:\n",
    "            if labeling['카테고리'] in ['블라우스', '셔츠']:\n",
    "                label = '0'\n",
    "            else:\n",
    "                label = '1'\n",
    "        # else:\n",
    "        #     label = '1'\n",
    "    elif i == '하의':\n",
    "        if '카테고리' in labeling:\n",
    "            if labeling['카테고리'] == '스커트':\n",
    "                label = '6'\n",
    "            elif labeling['카테고리'] in ['청바지','팬츠', '조거팬츠']:\n",
    "                if '기장' in labeling:\n",
    "                    if labeling['기장'] in ['미니', '니렝스']:\n",
    "                        label = '5'\n",
    "                    else:\n",
    "                        label = '4'\n",
    "                else: \n",
    "                    label = '4'\n",
    "        # else:\n",
    "        #     label = '4'\n",
    "    elif i == '원피스':\n",
    "        if '카테고리' in labeling:\n",
    "            if labeling['카테고리'] == '드레스':\n",
    "                label = '8'\n",
    "        # else:\n",
    "        #     label = '8'\n",
    "    return label"
   ]
  },
  {
   "cell_type": "code",
   "execution_count": 4,
   "metadata": {},
   "outputs": [
    {
     "name": "stdout",
     "output_type": "stream",
     "text": [
      "['기타', '레트로', '로맨틱', '리조트', '매니시', '모던', '밀리터리', '섹시', '소피스트케이티드', '스트리트', '스포티', '아방가르드', '오리엔탈', '웨스턴', '젠더리스', '컨트리', '클래식', '키치', '톰보이', '펑크', '페미닌', '프레피', '히피', '힙합']\n"
     ]
    }
   ],
   "source": [
    "path = r'C:\\Users\\user\\parsing\\dataset\\Training\\라벨링데이터'\n",
    "print(os.listdir(path))\n",
    "des_path = r'C:\\Users\\user\\parsing\\result\\train'\n",
    "createDirectory(des_path)"
   ]
  },
  {
   "cell_type": "code",
   "execution_count": 5,
   "metadata": {},
   "outputs": [
    {
     "name": "stderr",
     "output_type": "stream",
     "text": [
      "100%|██████████| 4400/4400 [00:00<00:00, 4846.98it/s]\n",
      "100%|██████████| 6833/6833 [00:02<00:00, 2326.91it/s]\n",
      "100%|██████████| 73173/73173 [00:31<00:00, 2354.16it/s]\n",
      "100%|██████████| 83181/83181 [26:11<00:00, 52.92it/s]\n",
      "100%|██████████| 8488/8488 [02:41<00:00, 52.66it/s] \n",
      "100%|██████████| 79947/79947 [23:55<00:00, 55.69it/s] \n",
      "100%|██████████| 3633/3633 [01:08<00:00, 52.94it/s]\n",
      "100%|██████████| 6322/6322 [02:00<00:00, 52.27it/s] \n",
      "100%|██████████| 32626/32626 [09:09<00:00, 59.39it/s] \n",
      "100%|██████████| 449494/449494 [2:10:42<00:00, 57.32it/s]\n",
      "100%|██████████| 14701/14701 [03:44<00:00, 65.56it/s] \n",
      "100%|██████████| 3671/3671 [01:11<00:00, 51.51it/s] ] \n",
      "100%|██████████| 4083/4083 [01:28<00:00, 46.17it/s] ]\n",
      "100%|██████████| 1712/1712 [00:34<00:00, 50.00it/s]] \n",
      "100%|██████████| 12386/12386 [03:29<00:00, 59.14it/s] \n",
      "100%|██████████| 32365/32365 [09:49<00:00, 54.92it/s] \n",
      "100%|██████████| 39411/39411 [11:03<00:00, 59.40it/s] \n",
      "100%|██████████| 4840/4840 [01:25<00:00, 56.30it/s] \n",
      "100%|██████████| 7578/7578 [02:07<00:00, 59.42it/s] \n",
      "100%|██████████| 382/382 [00:07<00:00, 48.00it/s]]\n",
      "100%|██████████| 88325/88325 [24:15<00:00, 60.69it/s] \n",
      "100%|██████████| 2471/2471 [00:40<00:00, 60.47it/s] \n",
      "100%|██████████| 6544/6544 [01:55<00:00, 56.89it/s] \n",
      "100%|██████████| 1240/1240 [00:21<00:00, 57.16it/s]\n",
      "100%|██████████| 24/24 [4:18:42<00:00, 646.76s/it]\n"
     ]
    }
   ],
   "source": [
    "for p in tqdm(os.listdir(path)):\n",
    "    tmp_path = os.path.join(path, p)\n",
    "    a = glob(os.path.join(tmp_path, '*.json'))\n",
    "\n",
    "    for file in tqdm(a):\n",
    "        with open(file) as f:\n",
    "            text = json.load(f)\n",
    "        h, w = int(text['이미지 정보']['이미지 높이']), int(text['이미지 정보']['이미지 너비'])\n",
    "        t_name = file[len(path)+len(p)+2:-5] + '.txt'\n",
    "        m = text['데이터셋 정보']['데이터셋 상세설명']['폴리곤좌표']\n",
    "        final_result = []\n",
    "        for i in m:\n",
    "            result=[]\n",
    "            if m[i][0]:\n",
    "                labeling = text['데이터셋 정보']['데이터셋 상세설명']['라벨링'][i][0]\n",
    "                label = label_make(i, labeling)\n",
    "                if label != '99':\n",
    "                    result.append(label) \n",
    "                    k = sorted(m[i][0].items())\n",
    "                    k1 = k[:len(k)//2]\n",
    "                    k2 = k[len(k)//2:]\n",
    "                    tmp =[[0,0] for i in range(len(k)//2)]\n",
    "                    for x_item, y_item in zip(k1, k2):\n",
    "                        index = int(x_item[0][3:]) - 1\n",
    "                        if index >= len(tmp):\n",
    "                            y = [round(x_item[1]/w, 6), round(y_item[1]/h, 6)]\n",
    "                            tmp.append(y)\n",
    "                        else:\n",
    "                            tmp[index][0] = round(x_item[1]/w, 6)\n",
    "                            tmp[index][1] = round(y_item[1]/h, 6)\n",
    "                    tmp = [j for j in tmp if j != [0,0]]\n",
    "                    for point in tmp:\n",
    "                        result.append(str(point[0]))\n",
    "                        result.append(str(point[1]))\n",
    "                    final_result.append(result)\n",
    "        with open(os.path.join(des_path, t_name), 'w') as f:\n",
    "            for line in final_result:\n",
    "                f.write(' '.join(line)+'\\n')"
   ]
  },
  {
   "cell_type": "markdown",
   "metadata": {},
   "source": [
    "### 상의 카테고리 분류\n",
    "- 탑, 티셔츠, 니트웨어, 후드티, 브라탑\n",
    "- 블라우스, 셔츠\n",
    "\n",
    "* 상의 기장 신경 쓸 필요 없음\n",
    "___\n",
    "\n",
    "### 하의 카테고리\n",
    "- 청바지, 팬츠, 레깅스, 조거팬츠 -> 레깅스 넣을 건지 판단\n",
    "- 스커트\n",
    "\n",
    "*  하의 기장 < 바지만! >\n",
    "1. 미니 니렝스 \n",
    "2. 미디 발목 맥시\n",
    "___\n",
    "### 아우터 카테고리 분류\n",
    "- 코트, 패딩..?\n",
    "- 재킷, 점퍼, 가디건, 짚업\n",
    "- 베스트\n",
    "\n",
    "* 현재 데이터셋의 아우터 분류는 기장으로 했으므로\n",
    "이 데이터셋의 카테고리보다 기장으로 분류하는게 나을 수도 있음\n",
    "___\n",
    "### 원피스 카테고리 분류\n",
    "- 드레스\n",
    "- 점프수트는 배제\n",
    "\n",
    "* 기장 필요 없음\n",
    "\n",
    "___\n",
    "### 컬러 필요하면 사용\n"
   ]
  }
 ],
 "metadata": {
  "kernelspec": {
   "display_name": "yolov8",
   "language": "python",
   "name": "python3"
  },
  "language_info": {
   "codemirror_mode": {
    "name": "ipython",
    "version": 3
   },
   "file_extension": ".py",
   "mimetype": "text/x-python",
   "name": "python",
   "nbconvert_exporter": "python",
   "pygments_lexer": "ipython3",
   "version": "3.7.16"
  },
  "orig_nbformat": 4
 },
 "nbformat": 4,
 "nbformat_minor": 2
}
