{
 "cells": [
  {
   "cell_type": "code",
   "execution_count": 2,
   "metadata": {},
   "outputs": [],
   "source": [
    "from glob import glob\n",
    "import cv2\n",
    "import os\n",
    "import tqdm"
   ]
  },
  {
   "cell_type": "code",
   "execution_count": 8,
   "metadata": {},
   "outputs": [],
   "source": [
    "d = {  0: '셔츠/블라우스',\n",
    "  1: '상의/티셔츠/맨투맨',\n",
    "  2: '스웨터',\n",
    "  3: '카디건',\n",
    "  4: '자켓',\n",
    "  5: '조끼',\n",
    "  6: '바지',\n",
    "  7: '반바지',\n",
    "  8: '치마',\n",
    "  9: '코트',\n",
    "  10: '드레스/원피스',\n",
    "  11: '점프수트',\n",
    "  12: '망토',\n",
    "  13: '안경/선글라스',\n",
    "  14: '모자',\n",
    "  15: '머리띠',\n",
    "  16: '넥타이',\n",
    "  17: '장갑',\n",
    "  18: '시계',\n",
    "  19: '벨트/허리띠',\n",
    "  20: '다리보온대/레그워머',\n",
    "  21: '타이즈/스타킹',\n",
    "  22: '양말',\n",
    "  23: '신발',\n",
    "  24: '가방/지갑',\n",
    "  25: '스카프',\n",
    "  26: '우산',\n",
    "  27: '복면',\n",
    "  28: '카라/깃',\n",
    "  29: 'laped',\n",
    "  30: '어깨장식(견장)',\n",
    "  31: '소매',\n",
    "  32: '주머니/호주머니',\n",
    "  33: '목둘레선',\n",
    "  34: '버클',\n",
    "  35: '지퍼',\n",
    "  36: '아플리케',\n",
    "  37: '구슬/염주',\n",
    "  38: '보타이',\n",
    "  39: '꽃',\n",
    "  40: '술',\n",
    "  41: '리본',\n",
    "  42: 'rivet',\n",
    "  43: '주름장식',\n",
    "  44: '스팽글',\n",
    "  45: '술'}"
   ]
  },
  {
   "cell_type": "code",
   "execution_count": 9,
   "metadata": {},
   "outputs": [
    {
     "name": "stdout",
     "output_type": "stream",
     "text": [
      "셔츠/블라우스\n"
     ]
    }
   ],
   "source": [
    "print(d[0])"
   ]
  },
  {
   "cell_type": "code",
   "execution_count": null,
   "metadata": {},
   "outputs": [],
   "source": []
  }
 ],
 "metadata": {
  "kernelspec": {
   "display_name": "v7-seg",
   "language": "python",
   "name": "python3"
  },
  "language_info": {
   "codemirror_mode": {
    "name": "ipython",
    "version": 3
   },
   "file_extension": ".py",
   "mimetype": "text/x-python",
   "name": "python",
   "nbconvert_exporter": "python",
   "pygments_lexer": "ipython3",
   "version": "3.8.0"
  },
  "orig_nbformat": 4
 },
 "nbformat": 4,
 "nbformat_minor": 2
}
